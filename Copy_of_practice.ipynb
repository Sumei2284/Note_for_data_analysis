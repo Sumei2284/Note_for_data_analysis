{
  "nbformat": 4,
  "nbformat_minor": 0,
  "metadata": {
    "colab": {
      "name": "Copy of practice.ipynb",
      "provenance": [],
      "collapsed_sections": [],
      "toc_visible": true,
      "include_colab_link": true
    },
    "kernelspec": {
      "name": "python3",
      "display_name": "Python 3"
    },
    "language_info": {
      "name": "python"
    }
  },
  "cells": [
    {
      "cell_type": "markdown",
      "metadata": {
        "id": "view-in-github",
        "colab_type": "text"
      },
      "source": [
        "<a href=\"https://colab.research.google.com/github/Sumei2284/Note_for_data_analysis/blob/main/Copy_of_practice.ipynb\" target=\"_parent\"><img src=\"https://colab.research.google.com/assets/colab-badge.svg\" alt=\"Open In Colab\"/></a>"
      ]
    },
    {
      "cell_type": "code",
      "execution_count": null,
      "metadata": {
        "id": "lzO2yPagk9PH"
      },
      "outputs": [],
      "source": [
        "import re\n",
        "WA = 'Wrong Answer! Try again.'\n",
        "AC = 'Passed. Great job!'\n",
        "check_if_passed = lambda res, ans: print(AC if res == ans else f'{WA}\\nresult = {res}\\nanswer = {ans}')"
      ]
    },
    {
      "cell_type": "markdown",
      "source": [
        "# **Practice 1**"
      ],
      "metadata": {
        "id": "B6OttgHrwMSb"
      }
    },
    {
      "cell_type": "code",
      "source": [
        "text = 'Annie is 123.\\nAnnie is 345.\\nAnnie is 678.\\nI am Annie.'\n",
        "answer = ['123', '345', '678']\n",
        "result = re.findall('\\d+', text)\n",
        "check_if_passed(result, answer)"
      ],
      "metadata": {
        "colab": {
          "base_uri": "https://localhost:8080/"
        },
        "id": "N8iuDnrrlC0d",
        "outputId": "b484a749-b057-433c-97eb-910bb7d2e847"
      },
      "execution_count": null,
      "outputs": [
        {
          "output_type": "stream",
          "name": "stdout",
          "text": [
            "Passed. Great job!\n"
          ]
        }
      ]
    },
    {
      "cell_type": "markdown",
      "source": [
        "# **Practice 2**"
      ],
      "metadata": {
        "id": "9OeHThz4ymtU"
      }
    },
    {
      "cell_type": "code",
      "source": [
        "text = 'title:<\"Trasporti a Torino\">Servizio ferroviario metropolitano; Comune! ed una seconda. ohla'\n",
        "answer = ['title', 'Trasporti', 'a', 'Torino', 'Servizio', 'ferroviario', 'metropolitano', 'Comune', 'ed', 'una', 'seconda', 'ohla']\n",
        "result = re.split('[^a-zA-Z]+', text)\n",
        "check_if_passed(result, answer)"
      ],
      "metadata": {
        "colab": {
          "base_uri": "https://localhost:8080/"
        },
        "outputId": "a04ee4ca-5c4f-4e62-ff60-31d98f80e41c",
        "id": "GmgmqpyyymtV"
      },
      "execution_count": null,
      "outputs": [
        {
          "output_type": "stream",
          "name": "stdout",
          "text": [
            "Passed. Great job!\n"
          ]
        }
      ]
    },
    {
      "cell_type": "markdown",
      "source": [
        "# **Practice 3**"
      ],
      "metadata": {
        "id": "wRuQGysjyrxb"
      }
    },
    {
      "cell_type": "code",
      "source": [
        "text = \"\"\"\n",
        "Annie is 123.\n",
        "Annie is 345.\n",
        "Annie is 678.\n",
        "I am Annie.\n",
        "\"\"\"\n",
        "\n",
        "answer = \"\"\"\n",
        "She is 123.\n",
        "She is 345.\n",
        "She is 678.\n",
        "I am Annie.\n",
        "\"\"\"\n",
        "\n",
        "result = re.sub('(?m)^Annie', 'She', text)\n",
        "\n",
        "check_if_passed(result, answer)"
      ],
      "metadata": {
        "colab": {
          "base_uri": "https://localhost:8080/"
        },
        "outputId": "84f41226-291b-4680-ad01-a4a1333befdb",
        "id": "y9-7OptFyrxc"
      },
      "execution_count": null,
      "outputs": [
        {
          "output_type": "stream",
          "name": "stdout",
          "text": [
            "Passed. Great job!\n"
          ]
        }
      ]
    },
    {
      "cell_type": "markdown",
      "source": [
        "# **Practice 4**"
      ],
      "metadata": {
        "id": "JZ0y3J2yysXk"
      }
    },
    {
      "cell_type": "code",
      "source": [
        "text = \"\"\"\n",
        "Annie is 123.\n",
        "Annie is 345.\n",
        "Annie is 678.\n",
        "I am Annie.\n",
        "\"\"\"\n",
        "\n",
        "answer = \"\"\"\n",
        "She is 123.\n",
        "Annie is 345.\n",
        "Annie is 678.\n",
        "I am Annie.\n",
        "\"\"\"\n",
        "\n",
        "result = re.sub(r'^.Annie', '\\nShe', text, flags=re.S)\n",
        "\n",
        "check_if_passed(result, answer)"
      ],
      "metadata": {
        "colab": {
          "base_uri": "https://localhost:8080/"
        },
        "outputId": "c700f5d6-7352-4dba-860a-9805bee0bd95",
        "id": "WsxIDzxcysXl"
      },
      "execution_count": null,
      "outputs": [
        {
          "output_type": "stream",
          "name": "stdout",
          "text": [
            "Passed. Great job!\n"
          ]
        }
      ]
    },
    {
      "cell_type": "markdown",
      "source": [
        "# **Practice 5**"
      ],
      "metadata": {
        "id": "JPQqbaQZysvN"
      }
    },
    {
      "cell_type": "code",
      "source": [
        "text = \"\"\"\n",
        "Annie has 1 apple.\n",
        "Jenny has 2 oranges.\n",
        "Hello World!\n",
        "Mary has 999 dollars.\n",
        "I have 4 bags.\n",
        "\"\"\"\n",
        "answer = [('Annie', '1', 'apple'), ('Jenny', '2', 'oranges'), ('Mary', '999', 'dollars'), ('I', '4', 'bags')]\n",
        "result = re.findall(r'([a-zA-Z]+) ha..? (\\d+) (\\w+)\\.', text)\n",
        "check_if_passed(result, answer)"
      ],
      "metadata": {
        "colab": {
          "base_uri": "https://localhost:8080/"
        },
        "outputId": "16803049-c01d-45ff-e6bb-cde5c0f72241",
        "id": "TfbtDNKQysvO"
      },
      "execution_count": null,
      "outputs": [
        {
          "output_type": "stream",
          "name": "stdout",
          "text": [
            "Passed. Great job!\n"
          ]
        }
      ]
    },
    {
      "cell_type": "markdown",
      "source": [
        "# **Practice 6**"
      ],
      "metadata": {
        "id": "FO0qGfO7yuA2"
      }
    },
    {
      "cell_type": "code",
      "source": [
        "text = \"\"\"\n",
        "Annie has 1 apple.\n",
        "Jenny has 2 oranges.\n",
        "Hello World!\n",
        "Mary has 999 dollars.\n",
        "I have 4 bags.\n",
        "\"\"\"\n",
        "\n",
        "answer = [\n",
        "    ('Annie has 1 apple.', 'Annie', '1', 'apple'),\n",
        "    ('Jenny has 2 oranges.', 'Jenny', '2', 'oranges'), \n",
        "    ('Mary has 999 dollars.', 'Mary', '999', 'dollars'), \n",
        "    ('I have 4 bags.', 'I', '4', 'bags')\n",
        "]\n",
        "\n",
        "result = re.findall(r'(([a-zA-Z]+) ha..? (\\d+) (\\w+)\\.)', text)\n",
        "\n",
        "check_if_passed(result, answer)"
      ],
      "metadata": {
        "colab": {
          "base_uri": "https://localhost:8080/"
        },
        "outputId": "874116e0-1d49-4fbe-a524-e10e38b00d59",
        "id": "z-GC-Wh2yuA2"
      },
      "execution_count": null,
      "outputs": [
        {
          "output_type": "stream",
          "name": "stdout",
          "text": [
            "Passed. Great job!\n"
          ]
        }
      ]
    }
  ]
}